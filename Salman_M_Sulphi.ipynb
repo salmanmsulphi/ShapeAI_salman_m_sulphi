{
  "nbformat": 4,
  "nbformat_minor": 0,
  "metadata": {
    "colab": {
      "name": "Salman_M_Sulphi ",
      "provenance": []
    },
    "kernelspec": {
      "name": "python3",
      "display_name": "Python 3"
    },
    "language_info": {
      "name": "python"
    }
  },
  "cells": [
    {
      "cell_type": "code",
      "metadata": {
        "id": "WOr2Rug0R2cC"
      },
      "source": [
        "from keras.datasets import mnist \n",
        "data=mnist.load_data()\n"
      ],
      "execution_count": 63,
      "outputs": []
    },
    {
      "cell_type": "code",
      "metadata": {
        "id": "vWaCAC8sSYH7"
      },
      "source": [
        "(X_train, y_train), (X_test, y_test)=data"
      ],
      "execution_count": 64,
      "outputs": []
    },
    {
      "cell_type": "code",
      "metadata": {
        "colab": {
          "base_uri": "https://localhost:8080/"
        },
        "id": "_XmpqVvTV9bo",
        "outputId": "5ab14b58-8e4d-4ff3-df58-ba0f06043326"
      },
      "source": [
        " X_train[0].shape"
      ],
      "execution_count": 65,
      "outputs": [
        {
          "output_type": "execute_result",
          "data": {
            "text/plain": [
              "(28, 28)"
            ]
          },
          "metadata": {
            "tags": []
          },
          "execution_count": 65
        }
      ]
    },
    {
      "cell_type": "code",
      "metadata": {
        "id": "klWjeGUYAGFr"
      },
      "source": [
        "X_train = X_train.reshape((X_train.shape[0], 28*28)).astype('float32')\n",
        "X_test= X_test.reshape((X_test.shape[0], 28*28)).astype('float32')"
      ],
      "execution_count": 66,
      "outputs": []
    },
    {
      "cell_type": "code",
      "metadata": {
        "id": "AelTzy5pAjEn"
      },
      "source": [
        "X_train= X_train/255\n",
        "X_test=X_test/255"
      ],
      "execution_count": 67,
      "outputs": []
    },
    {
      "cell_type": "code",
      "metadata": {
        "colab": {
          "base_uri": "https://localhost:8080/"
        },
        "id": "QG82K8m6Au03",
        "outputId": "1eddf53f-bbf1-4e26-817f-7358192d35a1"
      },
      "source": [
        "from keras.utils import np_utils\n",
        "\n",
        "print(y_test.shape)\n",
        "  \n",
        "y_train= np_utils.to_categorical(y_train)\n",
        "y_test= np_utils.to_categorical(y_test)\n",
        "num_classes=  y_test.shape[1]\n",
        "print(y_test.shape[1])\n",
        "\n",
        "\n"
      ],
      "execution_count": 68,
      "outputs": [
        {
          "output_type": "stream",
          "text": [
            "(10000,)\n",
            "10\n"
          ],
          "name": "stdout"
        }
      ]
    },
    {
      "cell_type": "code",
      "metadata": {
        "id": "dpFavGMmBZw3"
      },
      "source": [
        "from keras.models import Sequential \n",
        "from keras.layers import Dense\n"
      ],
      "execution_count": 69,
      "outputs": []
    },
    {
      "cell_type": "code",
      "metadata": {
        "id": "D1jUANmdCyNz"
      },
      "source": [
        "model=Sequential()\n",
        "\n",
        "model.add(Dense(32, input_dim = 28*28, activation='relu'))\n",
        "\n",
        "model.add(Dense(64, activation='relu'))\n",
        "\n",
        "model.add(Dense(10, activation='softmax'))"
      ],
      "execution_count": 70,
      "outputs": []
    },
    {
      "cell_type": "code",
      "metadata": {
        "id": "fikdVc2WEOZ5"
      },
      "source": [
        "model.compile(loss='categorical_crossentropy', optimizer='adam', metrics=['accuracy'])"
      ],
      "execution_count": 71,
      "outputs": []
    },
    {
      "cell_type": "code",
      "metadata": {
        "colab": {
          "base_uri": "https://localhost:8080/"
        },
        "id": "Y9TtZlYvDmOW",
        "outputId": "bc471460-321c-444d-e648-9899f7059f23"
      },
      "source": [
        "model.summary()"
      ],
      "execution_count": 72,
      "outputs": [
        {
          "output_type": "stream",
          "text": [
            "Model: \"sequential_2\"\n",
            "_________________________________________________________________\n",
            "Layer (type)                 Output Shape              Param #   \n",
            "=================================================================\n",
            "dense_3 (Dense)              (None, 32)                25120     \n",
            "_________________________________________________________________\n",
            "dense_4 (Dense)              (None, 64)                2112      \n",
            "_________________________________________________________________\n",
            "dense_5 (Dense)              (None, 10)                650       \n",
            "=================================================================\n",
            "Total params: 27,882\n",
            "Trainable params: 27,882\n",
            "Non-trainable params: 0\n",
            "_________________________________________________________________\n"
          ],
          "name": "stdout"
        }
      ]
    },
    {
      "cell_type": "code",
      "metadata": {
        "colab": {
          "base_uri": "https://localhost:8080/"
        },
        "id": "cpEEm0aUFD65",
        "outputId": "03a7b515-6555-40b4-8de6-151507264946"
      },
      "source": [
        "model.fit(X_train, y_train, validation_split=0.2 , epochs=10, batch_size=100)\n"
      ],
      "execution_count": 73,
      "outputs": [
        {
          "output_type": "stream",
          "text": [
            "Epoch 1/10\n",
            "480/480 [==============================] - 1s 2ms/step - loss: 0.8513 - accuracy: 0.7496 - val_loss: 0.2595 - val_accuracy: 0.9258\n",
            "Epoch 2/10\n",
            "480/480 [==============================] - 1s 2ms/step - loss: 0.2471 - accuracy: 0.9266 - val_loss: 0.1872 - val_accuracy: 0.9460\n",
            "Epoch 3/10\n",
            "480/480 [==============================] - 1s 2ms/step - loss: 0.1831 - accuracy: 0.9463 - val_loss: 0.1614 - val_accuracy: 0.9546\n",
            "Epoch 4/10\n",
            "480/480 [==============================] - 1s 2ms/step - loss: 0.1471 - accuracy: 0.9574 - val_loss: 0.1476 - val_accuracy: 0.9562\n",
            "Epoch 5/10\n",
            "480/480 [==============================] - 1s 2ms/step - loss: 0.1236 - accuracy: 0.9631 - val_loss: 0.1371 - val_accuracy: 0.9610\n",
            "Epoch 6/10\n",
            "480/480 [==============================] - 1s 2ms/step - loss: 0.1099 - accuracy: 0.9663 - val_loss: 0.1328 - val_accuracy: 0.9607\n",
            "Epoch 7/10\n",
            "480/480 [==============================] - 1s 2ms/step - loss: 0.0968 - accuracy: 0.9710 - val_loss: 0.1227 - val_accuracy: 0.9644\n",
            "Epoch 8/10\n",
            "480/480 [==============================] - 1s 2ms/step - loss: 0.0890 - accuracy: 0.9728 - val_loss: 0.1201 - val_accuracy: 0.9656\n",
            "Epoch 9/10\n",
            "480/480 [==============================] - 1s 2ms/step - loss: 0.0797 - accuracy: 0.9764 - val_loss: 0.1215 - val_accuracy: 0.9667\n",
            "Epoch 10/10\n",
            "480/480 [==============================] - 1s 2ms/step - loss: 0.0751 - accuracy: 0.9772 - val_loss: 0.1191 - val_accuracy: 0.9673\n"
          ],
          "name": "stdout"
        },
        {
          "output_type": "execute_result",
          "data": {
            "text/plain": [
              "<tensorflow.python.keras.callbacks.History at 0x7f0b95a27c10>"
            ]
          },
          "metadata": {
            "tags": []
          },
          "execution_count": 73
        }
      ]
    },
    {
      "cell_type": "code",
      "metadata": {
        "colab": {
          "base_uri": "https://localhost:8080/"
        },
        "id": "Jz_EOTkMFN-z",
        "outputId": "8ff9880d-ccf3-419a-bcda-9cb4131b93c0"
      },
      "source": [
        "scores=model.evaluate(X_test, y_test)\n",
        "print(scores) \n"
      ],
      "execution_count": 74,
      "outputs": [
        {
          "output_type": "stream",
          "text": [
            "313/313 [==============================] - 0s 1ms/step - loss: 0.1088 - accuracy: 0.9652\n",
            "[0.10879954695701599, 0.9652000069618225]\n"
          ],
          "name": "stdout"
        }
      ]
    },
    {
      "cell_type": "code",
      "metadata": {
        "id": "jmhtG_IpFqdi"
      },
      "source": [
        ""
      ],
      "execution_count": 74,
      "outputs": []
    }
  ]
}